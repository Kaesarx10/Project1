{
 "cells": [
  {
   "cell_type": "markdown",
   "id": "85fac4ff",
   "metadata": {},
   "source": [
    "This is a small project in which I scrappe Yahoo Finance for a company's current stock price. The price is then saved on to a pandas dataframe, which is then used to update a csv file. This project can be further improved by adding the ability to scrape for mutiple companies' stock price, at different points in time, as well as.."
   ]
  },
  {
   "cell_type": "code",
   "execution_count": 2,
   "id": "daa208e1",
   "metadata": {},
   "outputs": [],
   "source": [
    "import requests\n",
    "import pandas as pd\n",
    "from bs4 import BeautifulSoup as bs\n",
    "import csv\n",
    "import numpy as np\n",
    "from pandas import DataFrame as df\n",
    "import datetime"
   ]
  },
  {
   "cell_type": "code",
   "execution_count": 3,
   "id": "0a404dea",
   "metadata": {},
   "outputs": [],
   "source": [
    "yahoofin = 'https://finance.yahoo.com/quote/'"
   ]
  },
  {
   "cell_type": "code",
   "execution_count": 4,
   "id": "d144aa6a",
   "metadata": {},
   "outputs": [],
   "source": [
    "appleinc = 'AAPL'"
   ]
  },
  {
   "cell_type": "code",
   "execution_count": 5,
   "id": "e76d649b",
   "metadata": {},
   "outputs": [
    {
     "data": {
      "text/plain": [
       "'https://finance.yahoo.com/quote/AAPL'"
      ]
     },
     "execution_count": 5,
     "metadata": {},
     "output_type": "execute_result"
    }
   ],
   "source": [
    "stock = yahoofin+appleinc\n",
    "stock"
   ]
  },
  {
   "cell_type": "code",
   "execution_count": 6,
   "id": "14aa0b3d",
   "metadata": {},
   "outputs": [],
   "source": [
    "def stock_price(stock_url: str)-> str:\n",
    "    y_aapl = requests.get(stock_url).text\n",
    "    aapl_soup = bs(y_aapl, 'lxml')\n",
    "    price = aapl_soup.find('div', attrs={'id': 'quote-header-info'}).find(attrs={'data-reactid':'49'}).get_text()\n",
    "    return price"
   ]
  },
  {
   "cell_type": "code",
   "execution_count": 7,
   "id": "c9fdacf5",
   "metadata": {},
   "outputs": [],
   "source": [
    "sp = stock_price(stock)"
   ]
  },
  {
   "cell_type": "code",
   "execution_count": 8,
   "id": "5280c99b",
   "metadata": {},
   "outputs": [
    {
     "data": {
      "text/plain": [
       "AAPL    139.14\n",
       "dtype: object"
      ]
     },
     "execution_count": 8,
     "metadata": {},
     "output_type": "execute_result"
    }
   ],
   "source": [
    "aapl_table = pd.Series([stock_price(stock)], index=[appleinc])\n",
    "aapl_table"
   ]
  },
  {
   "cell_type": "code",
   "execution_count": 9,
   "id": "db813991",
   "metadata": {},
   "outputs": [
    {
     "data": {
      "text/html": [
       "<div>\n",
       "<style scoped>\n",
       "    .dataframe tbody tr th:only-of-type {\n",
       "        vertical-align: middle;\n",
       "    }\n",
       "\n",
       "    .dataframe tbody tr th {\n",
       "        vertical-align: top;\n",
       "    }\n",
       "\n",
       "    .dataframe thead th {\n",
       "        text-align: right;\n",
       "    }\n",
       "</style>\n",
       "<table border=\"1\" class=\"dataframe\">\n",
       "  <thead>\n",
       "    <tr style=\"text-align: right;\">\n",
       "      <th></th>\n",
       "      <th>2021-10-04</th>\n",
       "    </tr>\n",
       "  </thead>\n",
       "  <tbody>\n",
       "    <tr>\n",
       "      <th>AAPL</th>\n",
       "      <td>139.14</td>\n",
       "    </tr>\n",
       "  </tbody>\n",
       "</table>\n",
       "</div>"
      ],
      "text/plain": [
       "     2021-10-04\n",
       "AAPL     139.14"
      ]
     },
     "execution_count": 9,
     "metadata": {},
     "output_type": "execute_result"
    }
   ],
   "source": [
    "aapl_dframe2 = pd.DataFrame({appleinc:[sp]}, index = [datetime.date.today()])\n",
    "aapl_dframe2 = aapl_dframe2.transpose()\n",
    "aapl_dframe2"
   ]
  },
  {
   "cell_type": "code",
   "execution_count": 10,
   "id": "e908ad0c",
   "metadata": {},
   "outputs": [],
   "source": [
    "y_aapl = requests.get(yahoofin+appleinc)\n",
    "y_aapl = y_aapl.text"
   ]
  },
  {
   "cell_type": "code",
   "execution_count": 11,
   "id": "b14f917e",
   "metadata": {},
   "outputs": [],
   "source": [
    "aapl_soup = bs(y_aapl, 'lxml')"
   ]
  },
  {
   "cell_type": "code",
   "execution_count": 12,
   "id": "ea04fa32",
   "metadata": {},
   "outputs": [
    {
     "data": {
      "text/plain": [
       "'139.14'"
      ]
     },
     "execution_count": 12,
     "metadata": {},
     "output_type": "execute_result"
    }
   ],
   "source": [
    "price = aapl_soup.find('div', attrs={'id': 'quote-header-info'}).find(attrs={'data-reactid':'49'})\n",
    "price = price.get_text()\n",
    "price"
   ]
  },
  {
   "cell_type": "code",
   "execution_count": 13,
   "id": "7f740aab",
   "metadata": {},
   "outputs": [
    {
     "data": {
      "text/plain": [
       "AAPL    139.14\n",
       "dtype: object"
      ]
     },
     "execution_count": 13,
     "metadata": {},
     "output_type": "execute_result"
    }
   ],
   "source": [
    "aapl_table = pd.Series([price], index=[appleinc])\n",
    "aapl_table"
   ]
  },
  {
   "cell_type": "code",
   "execution_count": 14,
   "id": "2d0c31b3",
   "metadata": {},
   "outputs": [
    {
     "data": {
      "text/html": [
       "<div>\n",
       "<style scoped>\n",
       "    .dataframe tbody tr th:only-of-type {\n",
       "        vertical-align: middle;\n",
       "    }\n",
       "\n",
       "    .dataframe tbody tr th {\n",
       "        vertical-align: top;\n",
       "    }\n",
       "\n",
       "    .dataframe thead th {\n",
       "        text-align: right;\n",
       "    }\n",
       "</style>\n",
       "<table border=\"1\" class=\"dataframe\">\n",
       "  <thead>\n",
       "    <tr style=\"text-align: right;\">\n",
       "      <th></th>\n",
       "      <th>2021-10-04</th>\n",
       "    </tr>\n",
       "  </thead>\n",
       "  <tbody>\n",
       "    <tr>\n",
       "      <th>AAPL</th>\n",
       "      <td>139.14</td>\n",
       "    </tr>\n",
       "  </tbody>\n",
       "</table>\n",
       "</div>"
      ],
      "text/plain": [
       "     2021-10-04\n",
       "AAPL     139.14"
      ]
     },
     "execution_count": 14,
     "metadata": {},
     "output_type": "execute_result"
    }
   ],
   "source": [
    "aapl_dframe = pd.DataFrame({appleinc:[price]}, index = [datetime.date.today()])  #np.arange(len(list(appleinc))\n",
    "aapl_dframe = aapl_dframe.transpose()\n",
    "aapl_dframe"
   ]
  },
  {
   "cell_type": "code",
   "execution_count": 15,
   "id": "863a762c",
   "metadata": {},
   "outputs": [
    {
     "data": {
      "text/html": [
       "<div>\n",
       "<style scoped>\n",
       "    .dataframe tbody tr th:only-of-type {\n",
       "        vertical-align: middle;\n",
       "    }\n",
       "\n",
       "    .dataframe tbody tr th {\n",
       "        vertical-align: top;\n",
       "    }\n",
       "\n",
       "    .dataframe thead th {\n",
       "        text-align: right;\n",
       "    }\n",
       "</style>\n",
       "<table border=\"1\" class=\"dataframe\">\n",
       "  <thead>\n",
       "    <tr style=\"text-align: right;\">\n",
       "      <th></th>\n",
       "      <th>2021-10-04</th>\n",
       "    </tr>\n",
       "  </thead>\n",
       "  <tbody>\n",
       "    <tr>\n",
       "      <th>AAPL</th>\n",
       "      <td>139.14</td>\n",
       "    </tr>\n",
       "  </tbody>\n",
       "</table>\n",
       "</div>"
      ],
      "text/plain": [
       "     2021-10-04\n",
       "AAPL     139.14"
      ]
     },
     "execution_count": 15,
     "metadata": {},
     "output_type": "execute_result"
    }
   ],
   "source": [
    "pd.DataFrame({datetime.date.today():[price]}, index = [appleinc])"
   ]
  },
  {
   "cell_type": "code",
   "execution_count": 17,
   "id": "8ed48ec4",
   "metadata": {},
   "outputs": [],
   "source": [
    "with open('/Users/cesarvenzor/Documents/Projects/Project1/aapl_.csv', 'w') as aapl_:\n",
    "    csv.writer(aapl_).writerow([aapl_dframe])"
   ]
  },
  {
   "cell_type": "code",
   "execution_count": null,
   "id": "52139b2c",
   "metadata": {},
   "outputs": [],
   "source": []
  }
 ],
 "metadata": {
  "kernelspec": {
   "display_name": "Python 3",
   "language": "python",
   "name": "python3"
  },
  "language_info": {
   "codemirror_mode": {
    "name": "ipython",
    "version": 3
   },
   "file_extension": ".py",
   "mimetype": "text/x-python",
   "name": "python",
   "nbconvert_exporter": "python",
   "pygments_lexer": "ipython3",
   "version": "3.8.5"
  }
 },
 "nbformat": 4,
 "nbformat_minor": 5
}
